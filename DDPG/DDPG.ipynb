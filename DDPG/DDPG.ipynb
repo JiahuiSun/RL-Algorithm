{
 "cells": [
  {
   "cell_type": "code",
   "execution_count": 1,
   "metadata": {},
   "outputs": [],
   "source": [
    "import tensorflow as tf\n",
    "import gym\n",
    "import numpy as np\n",
    "import time, sys, os"
   ]
  },
  {
   "cell_type": "code",
   "execution_count": 4,
   "metadata": {},
   "outputs": [],
   "source": [
    "n_input = 10\n",
    "test = tf.placeholder(tf.float32, [None, n_input])\n",
    "layer1 = tf.layers.dense(test, 100, activation=tf.nn.relu, name='layer1', trainable=True)\n",
    "layer2 = tf.layers.dense(layer1, 10, activation=tf.nn.relu, name='layer2', trainable=True)\n",
    "out = tf.layers.dense(layer2, 1, activation=tf.nn.sigmoid, name='out_layer', trainable=True)"
   ]
  },
  {
   "cell_type": "code",
   "execution_count": 5,
   "metadata": {},
   "outputs": [],
   "source": [
    "with tf.Session() as sess:\n",
    "    sess.run(tf.global_variables_initializer())\n",
    "    writer = tf.summary.FileWriter('./logs', sess.graph)"
   ]
  },
  {
   "cell_type": "code",
   "execution_count": 12,
   "metadata": {},
   "outputs": [
    {
     "name": "stdout",
     "output_type": "stream",
     "text": [
      "/bin/sh: tensorboard: command not found\r\n"
     ]
    }
   ],
   "source": [
    "!tensorboard --logdir=logs"
   ]
  },
  {
   "cell_type": "code",
   "execution_count": 2,
   "metadata": {},
   "outputs": [],
   "source": [
    "s = tf.placeholder(tf.float32, [None, 10])\n",
    "a = tf.placeholder(tf.float32, [None, 3])\n",
    "\n",
    "layers = [50, 30]\n",
    "scope = 'critic'\n",
    "trainable = True"
   ]
  },
  {
   "cell_type": "code",
   "execution_count": 3,
   "metadata": {},
   "outputs": [],
   "source": [
    "# def build_critic(self, s, a, layers, scope, trainable):\n",
    "with tf.variable_scope(scope):\n",
    "    w1_s = tf.get_variable(\"w1_s\", [int(s.shape[1]), layers[0]],\n",
    "                           trainable=trainable)\n",
    "    w1_a = tf.get_variable(\"w1_a\", [int(a.shape[1]), layers[0]],\n",
    "                           trainable=trainable)\n",
    "    b1 = tf.get_variable(\"b1\", [1, layers[0]], trainable=trainable)\n",
    "    x = tf.nn.relu(tf.matmul(s, w1_s) + tf.matmul(a, w1_a) + b1)\n",
    "    for i in range(1, len(layers)):\n",
    "        name = 'layer' + str(i)\n",
    "        x = tf.layers.dense(x, layers[i], activation=tf.nn.relu,\n",
    "                            name=name, trainable=trainable)\n",
    "    output = tf.layers.dense(x, 1, activation=tf.nn.sigmoid,\n",
    "                             name='output', trainable=trainable)\n",
    "#     return output"
   ]
  },
  {
   "cell_type": "code",
   "execution_count": 4,
   "metadata": {},
   "outputs": [],
   "source": [
    "with tf.Session() as sess:\n",
    "    sess.run(tf.global_variables_initializer())\n",
    "    writer = tf.summary.FileWriter('./logs', sess.graph)"
   ]
  },
  {
   "cell_type": "code",
   "execution_count": null,
   "metadata": {},
   "outputs": [],
   "source": []
  }
 ],
 "metadata": {
  "kernelspec": {
   "display_name": "RL",
   "language": "python",
   "name": "rl"
  },
  "language_info": {
   "codemirror_mode": {
    "name": "ipython",
    "version": 3
   },
   "file_extension": ".py",
   "mimetype": "text/x-python",
   "name": "python",
   "nbconvert_exporter": "python",
   "pygments_lexer": "ipython3",
   "version": "3.6.8"
  }
 },
 "nbformat": 4,
 "nbformat_minor": 2
}
